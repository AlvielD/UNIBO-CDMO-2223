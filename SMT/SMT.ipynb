{
 "cells": [
  {
   "attachments": {},
   "cell_type": "markdown",
   "metadata": {},
   "source": [
    "# SMT"
   ]
  },
  {
   "attachments": {},
   "cell_type": "markdown",
   "metadata": {},
   "source": [
    "## Import and utils"
   ]
  },
  {
   "cell_type": "code",
   "execution_count": 1,
   "metadata": {},
   "outputs": [],
   "source": [
    "from z3 import *"
   ]
  },
  {
   "attachments": {},
   "cell_type": "markdown",
   "metadata": {},
   "source": [
    "## Read values from the file"
   ]
  },
  {
   "cell_type": "code",
   "execution_count": 2,
   "metadata": {},
   "outputs": [],
   "source": [
    "# Read the file and initialize the variables\n",
    "with open(\"../data/inst01.dat\", \"r\") as file:\n",
    "    lines = file.readlines()"
   ]
  },
  {
   "cell_type": "code",
   "execution_count": 3,
   "metadata": {},
   "outputs": [],
   "source": [
    "# Parse the values from the file\n",
    "m = int(lines[0].strip())  # Number of couriers\n",
    "n = int(lines[1].strip())  # Number of items\n",
    "l_values = list(map(int, lines[2].split()))  # Maximum load for each courier\n",
    "l = [Int(f\"l_{i}\") for i in range(1, m + 1)]\n",
    "for i in range(m):\n",
    "    l[i] = l_values[i]\n",
    "\n",
    "s_values = list(map(int, lines[3].split()))  # Size of each item\n",
    "s = [Int(f\"s_{i}\") for i in range(1, n + 1)]\n",
    "for i in range(n):\n",
    "    s[i] = s_values[i]\n",
    "\n",
    "D_values = [list(map(int, line.split())) for line in lines[4:]]  # Distance matrix\n",
    "D = [[Int(f\"D_{i}_{j}\") for j in range(n + 1)] for i in range(n + 1)]\n",
    "for i in range(n + 1):\n",
    "    for j in range(n + 1):\n",
    "        D[i][j] = D_values[i][j]"
   ]
  },
  {
   "attachments": {},
   "cell_type": "markdown",
   "metadata": {},
   "source": [
    "## Decision variables"
   ]
  },
  {
   "cell_type": "code",
   "execution_count": 4,
   "metadata": {},
   "outputs": [],
   "source": [
    "# Array theory\n",
    "routes = Array('routes', IntSort(), ArraySort(IntSort(), IntSort()))  # Routes for each courier\n",
    "D = Array('D', IntSort(), ArraySort(IntSort(), IntSort()))  # Routes for each courier\n",
    "\n",
    "# Set the matrix od distances D toi the default values\n",
    "for i in range(n+1):\n",
    "    a = Array('a', IntSort(), IntSort())\n",
    "    for j in range(n+1):\n",
    "        Store(a,j,D_values[i][j])\n",
    "    Store(D,i,a)\n",
    "\n",
    "# Accessing elements of routes\n",
    "for i in range(m):\n",
    "    for j in range(n+1):\n",
    "        route = routes[i][j]\n",
    "        # Use route in your constraints or expressions"
   ]
  },
  {
   "cell_type": "code",
   "execution_count": 10,
   "metadata": {},
   "outputs": [],
   "source": [
    "# CREATE SOLVER INSTANCE\n",
    "#solver = Solver()\n",
    "solver = Optimize()"
   ]
  },
  {
   "cell_type": "code",
   "execution_count": 11,
   "metadata": {},
   "outputs": [],
   "source": [
    "# DOMAIN CONSTRAINTS\n",
    "for i in range(m):\n",
    "    for t in range(n+1):\n",
    "        solver.add(And(routes[i][t] >= 1, routes[i][t] <= n + 1))"
   ]
  },
  {
   "attachments": {},
   "cell_type": "markdown",
   "metadata": {},
   "source": [
    "## Constraints"
   ]
  },
  {
   "cell_type": "code",
   "execution_count": 22,
   "metadata": {},
   "outputs": [
    {
     "ename": "TypeError",
     "evalue": "list indices must be integers or slices, not ArithRef",
     "output_type": "error",
     "traceback": [
      "\u001b[1;31m---------------------------------------------------------------------------\u001b[0m",
      "\u001b[1;31mTypeError\u001b[0m                                 Traceback (most recent call last)",
      "\u001b[1;32m~\\AppData\\Local\\Temp/ipykernel_9864/4154429173.py\u001b[0m in \u001b[0;36m<module>\u001b[1;34m\u001b[0m\n\u001b[0;32m      9\u001b[0m \u001b[1;32mfor\u001b[0m \u001b[0mi\u001b[0m \u001b[1;32min\u001b[0m \u001b[0mrange\u001b[0m\u001b[1;33m(\u001b[0m\u001b[0mm\u001b[0m\u001b[1;33m)\u001b[0m\u001b[1;33m:\u001b[0m\u001b[1;33m\u001b[0m\u001b[1;33m\u001b[0m\u001b[0m\n\u001b[0;32m     10\u001b[0m     \u001b[1;31m# Constraint to enforce the total size of items assigned to each courier\u001b[0m\u001b[1;33m\u001b[0m\u001b[1;33m\u001b[0m\u001b[0m\n\u001b[1;32m---> 11\u001b[1;33m     \u001b[0msolver\u001b[0m\u001b[1;33m.\u001b[0m\u001b[0madd\u001b[0m\u001b[1;33m(\u001b[0m\u001b[0mSum\u001b[0m\u001b[1;33m(\u001b[0m\u001b[1;33m[\u001b[0m\u001b[0mIf\u001b[0m\u001b[1;33m(\u001b[0m\u001b[0mroutes\u001b[0m\u001b[1;33m[\u001b[0m\u001b[0mi\u001b[0m\u001b[1;33m]\u001b[0m\u001b[1;33m[\u001b[0m\u001b[0mj\u001b[0m\u001b[1;33m]\u001b[0m \u001b[1;33m!=\u001b[0m \u001b[0mn\u001b[0m\u001b[1;33m+\u001b[0m\u001b[1;36m1\u001b[0m\u001b[1;33m,\u001b[0m \u001b[0ms\u001b[0m\u001b[1;33m[\u001b[0m\u001b[0mroutes\u001b[0m\u001b[1;33m[\u001b[0m\u001b[0mi\u001b[0m\u001b[1;33m]\u001b[0m\u001b[1;33m[\u001b[0m\u001b[0mj\u001b[0m\u001b[1;33m]\u001b[0m\u001b[1;33m-\u001b[0m\u001b[1;36m1\u001b[0m\u001b[1;33m]\u001b[0m\u001b[1;33m,\u001b[0m \u001b[1;36m0\u001b[0m\u001b[1;33m)\u001b[0m \u001b[1;32mfor\u001b[0m \u001b[0mj\u001b[0m \u001b[1;32min\u001b[0m \u001b[0mrange\u001b[0m\u001b[1;33m(\u001b[0m\u001b[0mn\u001b[0m\u001b[1;33m+\u001b[0m\u001b[1;36m1\u001b[0m\u001b[1;33m)\u001b[0m\u001b[1;33m]\u001b[0m\u001b[1;33m)\u001b[0m \u001b[1;33m<=\u001b[0m \u001b[0ml\u001b[0m\u001b[1;33m[\u001b[0m\u001b[0mi\u001b[0m\u001b[1;33m]\u001b[0m\u001b[1;33m)\u001b[0m\u001b[1;33m\u001b[0m\u001b[1;33m\u001b[0m\u001b[0m\n\u001b[0m\u001b[0;32m     12\u001b[0m \u001b[1;33m\u001b[0m\u001b[0m\n\u001b[0;32m     13\u001b[0m     \u001b[1;31m# Each couriers size needs to be at least the minimum value of the items sizes (forces all couriers to have at least one item)\u001b[0m\u001b[1;33m\u001b[0m\u001b[1;33m\u001b[0m\u001b[0m\n",
      "\u001b[1;32m~\\AppData\\Local\\Temp/ipykernel_9864/4154429173.py\u001b[0m in \u001b[0;36m<listcomp>\u001b[1;34m(.0)\u001b[0m\n\u001b[0;32m      9\u001b[0m \u001b[1;32mfor\u001b[0m \u001b[0mi\u001b[0m \u001b[1;32min\u001b[0m \u001b[0mrange\u001b[0m\u001b[1;33m(\u001b[0m\u001b[0mm\u001b[0m\u001b[1;33m)\u001b[0m\u001b[1;33m:\u001b[0m\u001b[1;33m\u001b[0m\u001b[1;33m\u001b[0m\u001b[0m\n\u001b[0;32m     10\u001b[0m     \u001b[1;31m# Constraint to enforce the total size of items assigned to each courier\u001b[0m\u001b[1;33m\u001b[0m\u001b[1;33m\u001b[0m\u001b[0m\n\u001b[1;32m---> 11\u001b[1;33m     \u001b[0msolver\u001b[0m\u001b[1;33m.\u001b[0m\u001b[0madd\u001b[0m\u001b[1;33m(\u001b[0m\u001b[0mSum\u001b[0m\u001b[1;33m(\u001b[0m\u001b[1;33m[\u001b[0m\u001b[0mIf\u001b[0m\u001b[1;33m(\u001b[0m\u001b[0mroutes\u001b[0m\u001b[1;33m[\u001b[0m\u001b[0mi\u001b[0m\u001b[1;33m]\u001b[0m\u001b[1;33m[\u001b[0m\u001b[0mj\u001b[0m\u001b[1;33m]\u001b[0m \u001b[1;33m!=\u001b[0m \u001b[0mn\u001b[0m\u001b[1;33m+\u001b[0m\u001b[1;36m1\u001b[0m\u001b[1;33m,\u001b[0m \u001b[0ms\u001b[0m\u001b[1;33m[\u001b[0m\u001b[0mroutes\u001b[0m\u001b[1;33m[\u001b[0m\u001b[0mi\u001b[0m\u001b[1;33m]\u001b[0m\u001b[1;33m[\u001b[0m\u001b[0mj\u001b[0m\u001b[1;33m]\u001b[0m\u001b[1;33m-\u001b[0m\u001b[1;36m1\u001b[0m\u001b[1;33m]\u001b[0m\u001b[1;33m,\u001b[0m \u001b[1;36m0\u001b[0m\u001b[1;33m)\u001b[0m \u001b[1;32mfor\u001b[0m \u001b[0mj\u001b[0m \u001b[1;32min\u001b[0m \u001b[0mrange\u001b[0m\u001b[1;33m(\u001b[0m\u001b[0mn\u001b[0m\u001b[1;33m+\u001b[0m\u001b[1;36m1\u001b[0m\u001b[1;33m)\u001b[0m\u001b[1;33m]\u001b[0m\u001b[1;33m)\u001b[0m \u001b[1;33m<=\u001b[0m \u001b[0ml\u001b[0m\u001b[1;33m[\u001b[0m\u001b[0mi\u001b[0m\u001b[1;33m]\u001b[0m\u001b[1;33m)\u001b[0m\u001b[1;33m\u001b[0m\u001b[1;33m\u001b[0m\u001b[0m\n\u001b[0m\u001b[0;32m     12\u001b[0m \u001b[1;33m\u001b[0m\u001b[0m\n\u001b[0;32m     13\u001b[0m     \u001b[1;31m# Each couriers size needs to be at least the minimum value of the items sizes (forces all couriers to have at least one item)\u001b[0m\u001b[1;33m\u001b[0m\u001b[1;33m\u001b[0m\u001b[0m\n",
      "\u001b[1;31mTypeError\u001b[0m: list indices must be integers or slices, not ArithRef"
     ]
    }
   ],
   "source": [
    "# TODO: FIX CONSTRAINTS\n",
    "# All the values from 1 to n need to appear exactly once in the routes matrix\n",
    "for i in range(n):\n",
    "    solver.add([If(routes[i][j] == i, 1, 0) for j in range(n+1)].count(1) == 1)\n",
    "\n",
    "# The courier must finish at the origin point\n",
    "for i in range(m):\n",
    "    solver.add(routes[i][n+1] == n+1)\n",
    "\n",
    "for i in range(m):\n",
    "    # Constraint to enforce the total size of items assigned to each courier\n",
    "    solver.add(Sum([If(routes[i][j] != n+1, s[routes[i][j]-1], 0) for j in range(n+1)]) <= l[i])\n",
    "\n",
    "    # Each couriers size needs to be at least the minimum value of the items sizes (forces all couriers to have at least one item)\n",
    "    solver.add(Sum([If(routes[i][j] != n+1, s[routes[i][j]-1], 0) for j in range(n+1)]) >= min(s))\n",
    "\n",
    "# IMPLICIT CONSTRAINT\n",
    "# Constraint to force exactly (m * (n + 1)) - n n+1s\n",
    "solver.add([If(routes[i][j] == n + 1, 1, 0) for i in range(m) for j in range(n+1)].count((m * (n + 1)) - n) == 1)"
   ]
  },
  {
   "cell_type": "code",
   "execution_count": 12,
   "metadata": {},
   "outputs": [],
   "source": [
    "# OBJECTIVE FUNCTION\n",
    "# Application of the same objective function above to all couriers\n",
    "dist_courier = [Sum([D[routes[i][j]][routes[i][j + 1]] for j in range(n)]) + D[n + 1][routes[i][0]] for i in range(m)]\n",
    "\n",
    "def z3_max(vector):\n",
    "    maximum = vector[0]\n",
    "    for value in vector[1:]:\n",
    "        maximum = If(value > maximum, value, maximum)\n",
    "    return maximum\n",
    "maximum = z3_max(dist_courier)\n"
   ]
  },
  {
   "cell_type": "code",
   "execution_count": 13,
   "metadata": {},
   "outputs": [
    {
     "name": "stdout",
     "output_type": "stream",
     "text": [
      "[[7, 7, 3, 7, 3, 4, 6], [7, 4, 6, 5, 7, 6, 5]]\n",
      "-84499\n"
     ]
    }
   ],
   "source": [
    "solver.minimize(maximum)\n",
    "if solver.check() == sat:\n",
    "    model = solver.model()\n",
    "    length = model.evaluate(maximum).as_string()\n",
    "    \n",
    "    routes_sol = []\n",
    "    for i in range(m):\n",
    "        routes_sol.append([model.evaluate(routes[i][j]).as_long() for j in range(n+1)])\n",
    "    print(routes_sol)\n",
    "    print(length)\n",
    "else:\n",
    "    print(\"no sat\")\n",
    "#TODO: Create function that prints the results\n"
   ]
  },
  {
   "cell_type": "code",
   "execution_count": null,
   "metadata": {},
   "outputs": [],
   "source": []
  }
 ],
 "metadata": {
  "kernelspec": {
   "display_name": "Python 3.8.5 32-bit",
   "language": "python",
   "name": "python3"
  },
  "language_info": {
   "codemirror_mode": {
    "name": "ipython",
    "version": 3
   },
   "file_extension": ".py",
   "mimetype": "text/x-python",
   "name": "python",
   "nbconvert_exporter": "python",
   "pygments_lexer": "ipython3",
   "version": "3.8.5"
  },
  "orig_nbformat": 4,
  "vscode": {
   "interpreter": {
    "hash": "54883a7121a713d77125f1e58771414b12d9415a58e298846e2d0c0165565864"
   }
  }
 },
 "nbformat": 4,
 "nbformat_minor": 2
}
