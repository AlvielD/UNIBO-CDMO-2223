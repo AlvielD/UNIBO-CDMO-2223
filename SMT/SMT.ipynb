{
 "cells": [
  {
   "attachments": {},
   "cell_type": "markdown",
   "metadata": {},
   "source": [
    "# SMT"
   ]
  },
  {
   "attachments": {},
   "cell_type": "markdown",
   "metadata": {},
   "source": [
    "## Import and utils"
   ]
  },
  {
   "cell_type": "code",
   "execution_count": 51,
   "metadata": {},
   "outputs": [],
   "source": [
    "from z3 import *"
   ]
  },
  {
   "attachments": {},
   "cell_type": "markdown",
   "metadata": {},
   "source": [
    "## Read values from the file"
   ]
  },
  {
   "cell_type": "code",
   "execution_count": 52,
   "metadata": {},
   "outputs": [],
   "source": [
    "# Read the file and initialize the variables\n",
    "with open(\"../data/inst02.dat\", \"r\") as file:\n",
    "    lines = file.readlines()"
   ]
  },
  {
   "cell_type": "code",
   "execution_count": 53,
   "metadata": {},
   "outputs": [],
   "source": [
    "# CREATE SOLVER INSTANCE\n",
    "#solver = Solver()\n",
    "solver = Optimize()"
   ]
  },
  {
   "cell_type": "markdown",
   "metadata": {},
   "source": [
    "## Decision variables"
   ]
  },
  {
   "cell_type": "code",
   "execution_count": 54,
   "metadata": {},
   "outputs": [],
   "source": [
    "# Parse the values from the file\n",
    "m = int(lines[0].strip())  # Number of couriers\n",
    "n = int(lines[1].strip())  # Number of items\n",
    "l_values = list(map(int, lines[2].split()))  # Maximum load for each courier\n",
    "l = Array('l', IntSort(), IntSort())\n",
    "for i in range(m):\n",
    "    solver.add(l[i] == l_values[i])\n",
    "\n",
    "s_values = list(map(int, lines[3].split()))  # Size of each item\n",
    "s = Array('s', IntSort(), IntSort())\n",
    "\n",
    "for i in range(n):\n",
    "    solver.add(s[i] == s_values[i])\n",
    "\n",
    "D_values = [list(map(int, line.split())) for line in lines[4:]]  # Distance matrix\n",
    "D = Array('D', IntSort(), ArraySort(IntSort(), IntSort()))  # Routes for each courier\n",
    "\n",
    "# Set the matrix of distances D to the default values\n",
    "for i in range(n+1):\n",
    "#    #a_i = Array('a_{i}', IntSort(), IntSort())\n",
    "    for j in range(n+1):\n",
    "        solver.add(D[i][j] == D_values[i][j])\n",
    "\n",
    "routes = Array('routes', IntSort(), ArraySort(IntSort(), IntSort()))  # Routes for each courier\n",
    "\n",
    "#D = [[Int(f\"D_{i}_{j}\") for j in range(n + 1)] for i in range(n + 1)]\n",
    "#for i in range(n + 1):\n",
    "#    for j in range(n + 1):\n",
    "#        D[i][j] = D_values[i][j]\n",
    "#print(s)"
   ]
  },
  {
   "cell_type": "code",
   "execution_count": 55,
   "metadata": {},
   "outputs": [],
   "source": [
    "#Useful functions\n",
    "def z3_max(vector):\n",
    "    maximum = vector[0]\n",
    "    for value in vector[1:]:\n",
    "        maximum = If(value > maximum, value, maximum)\n",
    "    return maximum\n",
    "\n",
    "def z3_min(vector):\n",
    "    minimum = vector[0]\n",
    "    for i in range(1,n):\n",
    "        value = vector[i]\n",
    "        minimum = If(value < minimum, value, minimum)\n",
    "    return minimum"
   ]
  },
  {
   "cell_type": "code",
   "execution_count": 56,
   "metadata": {},
   "outputs": [],
   "source": [
    "# DOMAIN CONSTRAINTS\n",
    "for i in range(m):\n",
    "    for t in range(n):\n",
    "        solver.add(And(routes[i][t] >= 1, routes[i][t] <= n + 1))"
   ]
  },
  {
   "attachments": {},
   "cell_type": "markdown",
   "metadata": {},
   "source": [
    "## Constraints"
   ]
  },
  {
   "cell_type": "code",
   "execution_count": 57,
   "metadata": {},
   "outputs": [],
   "source": [
    "# TODO: FIX CONSTRAINTS\n",
    "# All the values from 1 to n need to appear exactly once in the routes matrix\n",
    "for p in range(1,n+1):\n",
    "   solver.add(Sum([If(routes[i][j] == p, 1, 0) for i in range(m) for j in range(n+1)]) == 1)\n",
    "\n",
    "\n",
    "for i in range(m):\n",
    "    #Force the value n+1 to appear at least once.\n",
    "    #In the worst case scenario a courier will deliver n-m+1 items, \n",
    "    # each courier will have a n+1 in the positions n-m+1..n because we forced each courier to deliver at least one item.\n",
    "    for j in range(n-m+1, n+1):\n",
    "        solver.add(routes[i][j] == n+1)\n",
    "    \n",
    "    #Constraint to force that the total size of items assigned to each courier cannot exceed their maximum load size and constraint to force that the total size of items assigned to each courier is at least the load of the min value of item sizes\n",
    "    sums = Sum([If(routes[i][j] < n+1, s[routes[i][j] -1], 0) for j in range(n+1)])\n",
    "    solver.add(sums <= l[i])\n",
    "    \n",
    "    \n",
    "    #Simmetry breaking\n",
    "    #Constraint to force the first value of each row of the matrix to be different from n+1\n",
    "    solver.add(routes[i][0] < n+1)\n",
    "\n",
    "    #Constraint to force all the numbers after the first n+1 to be also n+1\n",
    "    for j in range(n):\n",
    "        solver.add(If(routes[i][j] == n+1, routes[i][j+1] == n+1, True))\n",
    "    \n",
    "     \n",
    "##IMPLICIT CONSTRAINT\n",
    "## Constraint to force exactly (m * (n + 1)) - n n+1s\n",
    "solver.add(Sum([If(routes[i][j] == n + 1, 1, 0) for i in range(m) for j in range(n+1)]) == (m * (n + 1)) - n)"
   ]
  },
  {
   "cell_type": "code",
   "execution_count": 58,
   "metadata": {},
   "outputs": [],
   "source": [
    "# OBJECTIVE FUNCTION\n",
    "# Application of the same objective function above to all couriers\n",
    "#dist_courier = [(Sum( [D[routes[i][j]][routes[i][j + 1]] for j in range(n)] )+ D[n + 1][routes[i][0]] )  for i in range(m)]\n",
    "dist_courier = [(Sum( [D[routes[i][j]-1][routes[i][j + 1]-1] for j in range(n)] )+ D[n][routes[i][0]-1] )  for i in range(m)]\n",
    "\n",
    "\n",
    "maximum = z3_max(dist_courier)\n",
    "\n"
   ]
  },
  {
   "cell_type": "code",
   "execution_count": 59,
   "metadata": {},
   "outputs": [
    {
     "name": "stdout",
     "output_type": "stream",
     "text": [
      "[[5, 10, 10, 10, 10, 10, 10, 10, 10, 10], [9, 10, 10, 10, 10, 10, 10, 10, 10, 10], [8, 10, 10, 10, 10, 10, 10, 10, 10, 10], [4, 1, 10, 10, 10, 10, 10, 10, 10, 10], [6, 10, 10, 10, 10, 10, 10, 10, 10, 10], [2, 7, 3, 10, 10, 10, 10, 10, 10, 10]]\n",
      "226\n",
      "[192, 132, 174, 209, 192, 226]\n"
     ]
    }
   ],
   "source": [
    "solver.minimize(maximum)\n",
    "if solver.check() == sat:\n",
    "    model = solver.model()\n",
    "    length = model.evaluate(maximum)\n",
    "    \n",
    "    \n",
    "    routes_sol = []\n",
    "    for i in range(m):\n",
    "        routes_sol.append([model.evaluate(routes[i][j]).as_long() for j in range(n+1)])\n",
    "    print(routes_sol)\n",
    "    print(length)\n",
    "    print([model.evaluate(v) for v in dist_courier])\n",
    "else:\n",
    "    print(\"no sat\")\n",
    "#TODO: Create function that prints the results\n"
   ]
  },
  {
   "cell_type": "code",
   "execution_count": 60,
   "metadata": {},
   "outputs": [
    {
     "name": "stdout",
     "output_type": "stream",
     "text": [
      "---n---\n",
      "9\n",
      "---SIZES---\n",
      "[11, 11, 23, 16, 2, 1, 24, 14, 20]\n",
      "---LOADS---\n",
      "[190, 185, 185, 190, 195, 185]\n",
      "---DISTANCES---\n",
      "[0, 199, 119, 28, 179, 77, 145, 61, 123, 87]\n",
      "[199, 0, 81, 206, 38, 122, 55, 138, 76, 113]\n",
      "[119, 81, 0, 126, 69, 121, 26, 117, 91, 32]\n",
      "[28, 206, 126, 0, 186, 84, 152, 68, 130, 94]\n",
      "[169, 38, 79, 176, 0, 92, 58, 108, 46, 98]\n",
      "[77, 122, 121, 84, 102, 0, 100, 16, 46, 96]\n",
      "[145, 55, 26, 152, 58, 100, 0, 91, 70, 58]\n",
      "[61, 138, 113, 68, 118, 16, 91, 0, 62, 87]\n",
      "[123, 76, 91, 130, 56, 46, 70, 62, 0, 66]\n",
      "[87, 113, 32, 94, 94, 96, 58, 87, 66, 0]\n",
      "---ROUTES---\n",
      "[5, 10, 10, 10, 10, 10, 10, 10, 10, 10]\n",
      "[9, 10, 10, 10, 10, 10, 10, 10, 10, 10]\n",
      "[8, 10, 10, 10, 10, 10, 10, 10, 10, 10]\n",
      "[4, 1, 10, 10, 10, 10, 10, 10, 10, 10]\n",
      "[6, 10, 10, 10, 10, 10, 10, 10, 10, 10]\n",
      "[2, 7, 3, 10, 10, 10, 10, 10, 10, 10]\n",
      "---DIST COURIER---\n",
      "[192, 132, 174, 209, 192, 226]\n"
     ]
    }
   ],
   "source": [
    "print('---n---')\n",
    "print(n)\n",
    "print(\"---SIZES---\")\n",
    "print([model.evaluate(s[i]) for i in range(n) ])\n",
    "print(\"---LOADS---\")\n",
    "print([model.evaluate(l[i]) for i in range(m) ])\n",
    "print('---DISTANCES---')  \n",
    "for i in range(n+1):\n",
    "    row = []\n",
    "    for j in range(n+1):\n",
    "        a = model.evaluate(D[i][j]).as_long()\n",
    "        row.append(a)\n",
    "    print(row)\n",
    "\n",
    "print('---ROUTES---')  \n",
    "for i in range(m):\n",
    "    row = []\n",
    "    for j in range(n+1):\n",
    "        a = model.evaluate(routes[i][j]).as_long()\n",
    "        row.append(a)\n",
    "    print(row)\n",
    "\n",
    "print('---DIST COURIER---')  \n",
    "print([model.evaluate(dist_courier[i]) for i in range(m)])\n",
    "\n",
    "\n"
   ]
  }
 ],
 "metadata": {
  "kernelspec": {
   "display_name": "Python 3.8.5 32-bit",
   "language": "python",
   "name": "python3"
  },
  "language_info": {
   "codemirror_mode": {
    "name": "ipython",
    "version": 3
   },
   "file_extension": ".py",
   "mimetype": "text/x-python",
   "name": "python",
   "nbconvert_exporter": "python",
   "pygments_lexer": "ipython3",
   "version": "3.8.5"
  },
  "orig_nbformat": 4,
  "vscode": {
   "interpreter": {
    "hash": "54883a7121a713d77125f1e58771414b12d9415a58e298846e2d0c0165565864"
   }
  }
 },
 "nbformat": 4,
 "nbformat_minor": 2
}
