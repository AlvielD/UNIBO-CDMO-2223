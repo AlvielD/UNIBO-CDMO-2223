{
 "cells": [
  {
   "attachments": {},
   "cell_type": "markdown",
   "metadata": {},
   "source": [
    "# MIP"
   ]
  },
  {
   "cell_type": "code",
   "execution_count": 10,
   "metadata": {},
   "outputs": [],
   "source": [
    "from pulp import *\n",
    "\n",
    "# Read the file and initialize the variables\n",
    "with open(\"../data/inst02.dat\", \"r\") as file:\n",
    "    lines = file.readlines()\n",
    "\n",
    "# Create a new model\n",
    "model = LpProblem(\"CourierRoutingProblem\", LpMinimize)"
   ]
  },
  {
   "cell_type": "code",
   "execution_count": 11,
   "metadata": {},
   "outputs": [],
   "source": [
    "## Parse the values from the file\n",
    "m = int(lines[0].strip())  # Number of couriers\n",
    "n = int(lines[1].strip())  # Number of items\n",
    "l_values = list(map(int, lines[2].split()))  # Maximum load for each courier\n",
    "s_values = list(map(int, lines[3].split()))  # Size of each item\n",
    "D_values = [list(map(int, line.split())) for line in lines[4:]]  # Distance matrix\n",
    "#l = LpVariable.dicts(\"l\", range(m), lowBound=0, cat=\"Integer\")  # Maximum load decision variables\n",
    "#for i in range(m):\n",
    "#    l[i].bounds = (l_values[i], l_values[i])\n",
    "#    model.addConstraint(l[i] == l_values[i])\n",
    "#\n",
    "#\n",
    "#s = LpVariable.dicts(\"s\", range(n), lowBound=0, cat=\"Integer\")  # Size of each item decision variables\n",
    "#for i in range(n):\n",
    "#    s[i].bounds = (s_values[i], s_values[i])\n",
    "#    model.addConstraint(s[i] == s_values[i])\n",
    "#\n",
    "#\n",
    "#D = LpVariable.dicts(\"D\", (range(n + 1), range(n + 1)), lowBound=0, cat=\"Integer\")  # Distance matrix decision variables\n",
    "#\n",
    "#for i in range(n + 1):\n",
    "#    for j in range(n + 1):\n",
    "#        D[i][j].bounds = (D_values[i][j], D_values[i][j])\n",
    "#        #D[i][j].setInitialValue(D_values[i][j])\n",
    "#        model.addConstraint(D[i][j] == D_values[i][j])\n",
    "#\n",
    "#routes = LpVariable.dicts(\"routes\", (range(n+1), range(n + 1)), lowBound=0, upBound=m, cat=\"Integer\")  # Routes for each courier OLD MODEL\n",
    "routes = [LpVariable.dicts(f\"routes_{i+1}\", (range(n+1), range(n + 1)), cat = \"Binary\") for i in range(m)]\n",
    "y = [ LpVariable(f\"y_{d}\", cat=\"Binary\") for d in range(m) ]\n",
    "\n",
    "\n"
   ]
  },
  {
   "cell_type": "code",
   "execution_count": 12,
   "metadata": {},
   "outputs": [],
   "source": [
    "# objective function \n",
    "objective = [lpSum([D_values[t][j] * routes[i][t][j] for t in range(n+1) for j in range(n+1)]) for i in range(m)]\n"
   ]
  },
  {
   "cell_type": "markdown",
   "metadata": {},
   "source": [
    "### CONSTRAINTS"
   ]
  },
  {
   "cell_type": "code",
   "execution_count": 13,
   "metadata": {},
   "outputs": [],
   "source": [
    "\n",
    "model += lpSum(routes) == (n+m)\n",
    "\n",
    "#No 1 values on diagonals\n",
    "model += lpSum([routes[d][i][i] for d in range(m) for i in range(n+1)]) == 0\n",
    "\n",
    "#Exactly 1 value in the same columns for each courier except last column\n",
    "for j in range(n):\n",
    "    model += lpSum([routes[d][i][j] for d in range(m) for i in range(n+1)]) == 1\n",
    "\n",
    "#Exactly 1 value in the same row for each courier except last row\n",
    "for i in range(n):\n",
    "    model += lpSum([routes[d][i][j] for d in range(m) for j in range(n+1)]) == 1\n",
    "\n",
    "#Exactly 1 value in the last row for each courier   \n",
    "#model += lpSum([routes[d][n][j]  for d in range(m) for j in range(n+1)]) == m\n",
    "\n",
    "#Exactly 1 value in the last column for each courier\n",
    "#model += lpSum([routes[d][i][n]   for d in range(m) for i in range(n+1)]) == m\n",
    "\n",
    "for d in range(m):\n",
    "\n",
    "    #At least 1 value for each courier\n",
    "    model += lpSum(routes[d]) >= 2\n",
    "\n",
    "    #Exactly 1 value in the last row for each courier   \n",
    "    model += lpSum([routes[d][n][j]  for j in range(n+1)]) == 1\n",
    "\n",
    "    #Exactly 1 value in the last column for each courier\n",
    "    model += lpSum([routes[d][i][n]  for i in range(n+1)]) == 1\n",
    "\n",
    "    #Loads constraint\n",
    "    model += lpSum([lpSum(routes[d][i]) * s_values[i] for i in range(n)]) <= l_values[d]\n",
    "\n",
    "    s = lpSum([lpSum([ routes[d][i][j]*(i+1) for j in range(n)]) for i in range(n)]) - lpSum([lpSum([ routes[d][j][i]* (i+1) for j in range(n)])  for i in range(n)])\n",
    "    sl = lpSum([lpSum([ routes[d][i][j]*(i+1) for j in range(n)]) for i in range(n)])\n",
    "    sr = lpSum([lpSum([ routes[d][j][i]* (i+1) for j in range(n)])  for i in range(n)])\n",
    "    # Add additional constraints based on the if-then condition\n",
    "    \n",
    "\n",
    "    # Add constraints if the condition is met (y = 1)\n",
    "    model+= y[d] >= sr/sum([i for i in range(n)]), f\"random constraint_{d}\"\n",
    "    model += y[d] <= sr\n",
    "    model += s>= (1 * y[d])\n",
    "    #model += s>= (-1 * y[d])\n",
    "    model += s\n",
    "    model += y[d]\n",
    "\n",
    "\n",
    "\n",
    "        \n",
    "    #The path must be coherent => there should exist a coherent path from the first destination point to the origin\n",
    "    #It's implemented by verifying that the sum of the values on the row 1 is equal to the sum of values in the comumn 1 => \n",
    "    #if there's a row in the ith row there should be a 1 also in the ith column and viceversa\n",
    "    for i in range(n+1):\n",
    "        model += ( lpSum([routes[d][i][a] for a in range(n+1) ]) == lpSum([routes[d][t][i] for t in range(n+1)]) )\n",
    "\n",
    "\n",
    "    for i in range(n):\n",
    "        for j in range(n):\n",
    "            ##Couriers cannot go back to a destination point already visited, except if it is the origin point\n",
    "            #Example   o -> 1   1 -> is allowed\n",
    "            model += lpSum([routes[d][i][j],routes[d][j][i]]) <=1\n",
    "\n",
    "\n",
    "#TODO Symmetry breaking contraints?\n",
    "\n",
    "\n"
   ]
  },
  {
   "cell_type": "code",
   "execution_count": 14,
   "metadata": {},
   "outputs": [
    {
     "name": "stdout",
     "output_type": "stream",
     "text": [
      "Status: Optimal\n"
     ]
    }
   ],
   "source": [
    "maximum = LpVariable(\"maximum\", lowBound=0, cat=\"Integer\")\n",
    "\n",
    "for i in range(len(objective)):\n",
    "    model.addConstraint(constraint = (maximum>=objective[i])) \n",
    "\n",
    "model.setObjective(maximum)\n",
    "\n",
    "# Solve the model\n",
    "model.solve()\n",
    "\n",
    "# The status of the solution is printed to the screen\n",
    "print(\"Status:\", LpStatus[model.status])\n",
    "\n",
    "if model.status == LpStatusOptimal:\n",
    "    length = model.objective.value()\n",
    "   \n",
    "else:\n",
    "    print(\"No solution found.\")"
   ]
  },
  {
   "cell_type": "code",
   "execution_count": 15,
   "metadata": {},
   "outputs": [
    {
     "name": "stdout",
     "output_type": "stream",
     "text": [
      "---ROUTES---\n",
      "[[1, 10, 10, 10, 10, 10, 10, 10, 10], [5, 10, 10, 10, 10, 10, 10, 10, 10], [7, 2, 10, 10, 10, 10, 10, 10, 10], [4, 10, 10, 10, 10, 10, 10, 10, 10], [9, 3, 10, 10, 10, 10, 10, 10, 10], [8, 6, 10, 10, 10, 10, 10, 10, 10]]\n",
      "---DISTANCES---\n",
      "[174.0, 192.0, 226.0, 188.0, 189.0, 199.0]\n",
      "---ROUTES MASK ---\n",
      "---COURIER 1---\n",
      "[0.0, 0.0, 0.0, 0.0, 0.0, 0.0, 0.0, 0.0, 0.0, 1.0]\n",
      "[0.0, 0.0, 0.0, 0.0, 0.0, 0.0, 0.0, 0.0, 0.0, 0.0]\n",
      "[0.0, 0.0, 0.0, 0.0, 0.0, 0.0, 0.0, 0.0, 0.0, 0.0]\n",
      "[0.0, 0.0, 0.0, 0.0, 0.0, 0.0, 0.0, 0.0, 0.0, 0.0]\n",
      "[0.0, 0.0, 0.0, 0.0, 0.0, 0.0, 0.0, 0.0, 0.0, 0.0]\n",
      "[0.0, 0.0, 0.0, 0.0, 0.0, 0.0, 0.0, 0.0, 0.0, 0.0]\n",
      "[0.0, 0.0, 0.0, 0.0, 0.0, 0.0, 0.0, 0.0, 0.0, 0.0]\n",
      "[0.0, 0.0, 0.0, 0.0, 0.0, 0.0, 0.0, 0.0, 0.0, 0.0]\n",
      "[0.0, 0.0, 0.0, 0.0, 0.0, 0.0, 0.0, 0.0, 0.0, 0.0]\n",
      "[1.0, 0.0, 0.0, 0.0, 0.0, 0.0, 0.0, 0.0, 0.0, 0.0]\n",
      "---COURIER 2---\n",
      "[0.0, 0.0, 0.0, 0.0, 0.0, 0.0, 0.0, 0.0, 0.0, 0.0]\n",
      "[0.0, 0.0, 0.0, 0.0, 0.0, 0.0, 0.0, 0.0, 0.0, 0.0]\n",
      "[0.0, 0.0, 0.0, 0.0, 0.0, 0.0, 0.0, 0.0, 0.0, 0.0]\n",
      "[0.0, 0.0, 0.0, 0.0, 0.0, 0.0, 0.0, 0.0, 0.0, 0.0]\n",
      "[0.0, 0.0, 0.0, 0.0, 0.0, 0.0, 0.0, 0.0, 0.0, 1.0]\n",
      "[0.0, 0.0, 0.0, 0.0, 0.0, 0.0, 0.0, 0.0, 0.0, 0.0]\n",
      "[0.0, 0.0, 0.0, 0.0, 0.0, 0.0, 0.0, 0.0, 0.0, 0.0]\n",
      "[0.0, 0.0, 0.0, 0.0, 0.0, 0.0, 0.0, 0.0, 0.0, 0.0]\n",
      "[0.0, 0.0, 0.0, 0.0, 0.0, 0.0, 0.0, 0.0, 0.0, 0.0]\n",
      "[0.0, 0.0, 0.0, 0.0, 1.0, 0.0, 0.0, 0.0, 0.0, 0.0]\n",
      "---COURIER 3---\n",
      "[0.0, 0.0, 0.0, 0.0, 0.0, 0.0, 0.0, 0.0, 0.0, 0.0]\n",
      "[0.0, 0.0, 0.0, 0.0, 0.0, 0.0, 0.0, 0.0, 0.0, 1.0]\n",
      "[0.0, 0.0, 0.0, 0.0, 0.0, 0.0, 0.0, 0.0, 0.0, 0.0]\n",
      "[0.0, 0.0, 0.0, 0.0, 0.0, 0.0, 0.0, 0.0, 0.0, 0.0]\n",
      "[0.0, 0.0, 0.0, 0.0, 0.0, 0.0, 0.0, 0.0, 0.0, 0.0]\n",
      "[0.0, 0.0, 0.0, 0.0, 0.0, 0.0, 0.0, 0.0, 0.0, 0.0]\n",
      "[0.0, 1.0, 0.0, 0.0, 0.0, 0.0, 0.0, 0.0, 0.0, 0.0]\n",
      "[0.0, 0.0, 0.0, 0.0, 0.0, 0.0, 0.0, 0.0, 0.0, 0.0]\n",
      "[0.0, 0.0, 0.0, 0.0, 0.0, 0.0, 0.0, 0.0, 0.0, 0.0]\n",
      "[0.0, 0.0, 0.0, 0.0, 0.0, 0.0, 1.0, 0.0, 0.0, 0.0]\n",
      "---COURIER 4---\n",
      "[0.0, 0.0, 0.0, 0.0, 0.0, 0.0, 0.0, 0.0, 0.0, 0.0]\n",
      "[0.0, 0.0, 0.0, 0.0, 0.0, 0.0, 0.0, 0.0, 0.0, 0.0]\n",
      "[0.0, 0.0, 0.0, 0.0, 0.0, 0.0, 0.0, 0.0, 0.0, 0.0]\n",
      "[0.0, 0.0, 0.0, 0.0, 0.0, 0.0, 0.0, 0.0, 0.0, 1.0]\n",
      "[0.0, 0.0, 0.0, 0.0, 0.0, 0.0, 0.0, 0.0, 0.0, 0.0]\n",
      "[0.0, 0.0, 0.0, 0.0, 0.0, 0.0, 0.0, 0.0, 0.0, 0.0]\n",
      "[0.0, 0.0, 0.0, 0.0, 0.0, 0.0, 0.0, 0.0, 0.0, 0.0]\n",
      "[0.0, 0.0, 0.0, 0.0, 0.0, 0.0, 0.0, 0.0, 0.0, 0.0]\n",
      "[0.0, 0.0, 0.0, 0.0, 0.0, 0.0, 0.0, 0.0, 0.0, 0.0]\n",
      "[0.0, 0.0, 0.0, 1.0, 0.0, 0.0, 0.0, 0.0, 0.0, 0.0]\n",
      "---COURIER 5---\n",
      "[0.0, 0.0, 0.0, 0.0, 0.0, 0.0, 0.0, 0.0, 0.0, 0.0]\n",
      "[0.0, 0.0, 0.0, 0.0, 0.0, 0.0, 0.0, 0.0, 0.0, 0.0]\n",
      "[0.0, 0.0, 0.0, 0.0, 0.0, 0.0, 0.0, 0.0, 0.0, 1.0]\n",
      "[0.0, 0.0, 0.0, 0.0, 0.0, 0.0, 0.0, 0.0, 0.0, 0.0]\n",
      "[0.0, 0.0, 0.0, 0.0, 0.0, 0.0, 0.0, 0.0, 0.0, 0.0]\n",
      "[0.0, 0.0, 0.0, 0.0, 0.0, 0.0, 0.0, 0.0, 0.0, 0.0]\n",
      "[0.0, 0.0, 0.0, 0.0, 0.0, 0.0, 0.0, 0.0, 0.0, 0.0]\n",
      "[0.0, 0.0, 0.0, 0.0, 0.0, 0.0, 0.0, 0.0, 0.0, 0.0]\n",
      "[0.0, 0.0, 1.0, 0.0, 0.0, 0.0, 0.0, 0.0, 0.0, 0.0]\n",
      "[0.0, 0.0, 0.0, 0.0, 0.0, 0.0, 0.0, 0.0, 1.0, 0.0]\n",
      "---COURIER 6---\n",
      "[0.0, 0.0, 0.0, 0.0, 0.0, 0.0, 0.0, 0.0, 0.0, 0.0]\n",
      "[0.0, 0.0, 0.0, 0.0, 0.0, 0.0, 0.0, 0.0, 0.0, 0.0]\n",
      "[0.0, 0.0, 0.0, 0.0, 0.0, 0.0, 0.0, 0.0, 0.0, 0.0]\n",
      "[0.0, 0.0, 0.0, 0.0, 0.0, 0.0, 0.0, 0.0, 0.0, 0.0]\n",
      "[0.0, 0.0, 0.0, 0.0, 0.0, 0.0, 0.0, 0.0, 0.0, 0.0]\n",
      "[0.0, 0.0, 0.0, 0.0, 0.0, 0.0, 0.0, 0.0, 0.0, 1.0]\n",
      "[0.0, 0.0, 0.0, 0.0, 0.0, 0.0, 0.0, 0.0, 0.0, 0.0]\n",
      "[0.0, 0.0, 0.0, 0.0, 0.0, 1.0, 0.0, 0.0, 0.0, 0.0]\n",
      "[0.0, 0.0, 0.0, 0.0, 0.0, 0.0, 0.0, 0.0, 0.0, 0.0]\n",
      "[0.0, 0.0, 0.0, 0.0, 0.0, 0.0, 0.0, 1.0, 0.0, 0.0]\n",
      "---MAXIMUM---\n",
      "226.0\n"
     ]
    }
   ],
   "source": [
    "#Print results\n",
    "routes_values = []\n",
    "for d in range(m):\n",
    "    r = [n+1] * n\n",
    "    pos = 0\n",
    "    index = n\n",
    "    while True: \n",
    "        index = [routes[d][index][j].varValue for j in range(n+1)].index(1.0)\n",
    "        r[pos] = index+1\n",
    "        pos+=1\n",
    "        if(index == n):\n",
    "            routes_values.append(r)\n",
    "            break\n",
    "\n",
    "print(\"---ROUTES---\")\n",
    "print(routes_values)\n",
    "\n",
    "print(\"---DISTANCES---\")\n",
    "print([sum([D_values[t][j] * routes[i][t][j].varValue for t in range(n+1) for j in range(n+1)]) for i in range(m)])\n",
    "print(\"---ROUTES MASK ---\")\n",
    "for d in range(m):\n",
    "    print(f\"---COURIER {d+1}---\")\n",
    "    for i in range(n+1):\n",
    "        print([routes[d][i][j].varValue for j in range(n + 1)])\n",
    "        \n",
    "print(\"---MAXIMUM---\")\n",
    "print(length)"
   ]
  },
  {
   "cell_type": "code",
   "execution_count": 16,
   "metadata": {},
   "outputs": [
    {
     "name": "stdout",
     "output_type": "stream",
     "text": [
      "0.0\n",
      "0.0\n",
      "1.0\n",
      "0.0\n",
      "1.0\n",
      "1.0\n"
     ]
    }
   ],
   "source": [
    "for d in range(m):\n",
    "    print(y[d].varValue)"
   ]
  },
  {
   "cell_type": "code",
   "execution_count": 17,
   "metadata": {},
   "outputs": [
    {
     "name": "stdout",
     "output_type": "stream",
     "text": [
      "x = 0.0\n",
      "y = 0.0\n",
      "outcome_1 = 0.0\n",
      "outcome_2 = 1.0\n"
     ]
    }
   ],
   "source": [
    "import pulp\n",
    "\n",
    "# Create a PULP model\n",
    "model = pulp.LpProblem(\"If-Then Example\", pulp.LpMinimize)\n",
    "\n",
    "# Define variables\n",
    "x = pulp.LpVariable(\"x\", lowBound=0, upBound=10)  # Variable x\n",
    "y = pulp.LpVariable(\"y\", cat=\"Binary\")  # Binary variable representing the condition\n",
    "\n",
    "# Define binary variables for the outcomes of the if-then statement\n",
    "outcome_1 = pulp.LpVariable(\"outcome_1\", cat=\"Binary\")\n",
    "outcome_2 = pulp.LpVariable(\"outcome_2\", cat=\"Binary\")\n",
    "\n",
    "# Add constraints to enforce the if-then logic\n",
    "model.addConstraint(x <= 5 + (10 - 5) * y)  # If y is 1 (True), x <= 10, otherwise x <= 5\n",
    "model.addConstraint(outcome_1 >= y)  # outcome_1 = 1 (True) if y is 1 (True), otherwise outcome_1 = 0\n",
    "model.addConstraint(outcome_2 >= 1 - y)  # outcome_2 = 1 (True) if y is 0 (False), otherwise outcome_2 = 0\n",
    "\n",
    "# Objective function\n",
    "model.setObjective(outcome_1 + outcome_2)\n",
    "\n",
    "# Solve the model\n",
    "model.solve()\n",
    "\n",
    "# Print the solution\n",
    "print(\"x =\", pulp.value(x))\n",
    "print(\"y =\", pulp.value(y))\n",
    "print(\"outcome_1 =\", pulp.value(outcome_1))\n",
    "print(\"outcome_2 =\", pulp.value(outcome_2))\n"
   ]
  },
  {
   "cell_type": "code",
   "execution_count": 18,
   "metadata": {},
   "outputs": [
    {
     "name": "stdout",
     "output_type": "stream",
     "text": [
      "Optimal solution:\n",
      "a = 3.0\n",
      "x = 0.0\n"
     ]
    }
   ],
   "source": [
    "from pulp import LpProblem, LpVariable, LpMinimize, LpConstraint, LpStatusOptimal\n",
    "\n",
    "# Create a new LP problem\n",
    "problem = LpProblem(\"conditional_constraint\", LpMinimize)\n",
    "\n",
    "# Create variables\n",
    "a = LpVariable(\"a\", lowBound=0)\n",
    "x = LpVariable(\"x\", lowBound=0)\n",
    "\n",
    "# Define the constraint\n",
    "condition = (a >= 3)\n",
    "constraint = LpConstraint(e=condition, sense=1, rhs=0, name=\"conditional_constraint\")\n",
    "problem += constraint\n",
    "\n",
    "# Set the objective function\n",
    "problem += x\n",
    "\n",
    "# Solve the problem\n",
    "problem.solve()\n",
    "\n",
    "# Check the status of the solution\n",
    "if problem.status == LpStatusOptimal:\n",
    "    # Print the optimal solution\n",
    "    print(\"Optimal solution:\")\n",
    "    print(\"a =\", a.value())\n",
    "    print(\"x =\", x.value())\n",
    "else:\n",
    "    print(\"Problem status:\", problem.status)\n"
   ]
  },
  {
   "cell_type": "code",
   "execution_count": null,
   "metadata": {},
   "outputs": [],
   "source": []
  }
 ],
 "metadata": {
  "kernelspec": {
   "display_name": "Python 3.8.5 32-bit",
   "language": "python",
   "name": "python3"
  },
  "language_info": {
   "codemirror_mode": {
    "name": "ipython",
    "version": 3
   },
   "file_extension": ".py",
   "mimetype": "text/x-python",
   "name": "python",
   "nbconvert_exporter": "python",
   "pygments_lexer": "ipython3",
   "version": "3.8.5"
  },
  "orig_nbformat": 4,
  "vscode": {
   "interpreter": {
    "hash": "54883a7121a713d77125f1e58771414b12d9415a58e298846e2d0c0165565864"
   }
  }
 },
 "nbformat": 4,
 "nbformat_minor": 2
}
