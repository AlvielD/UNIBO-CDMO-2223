{
 "cells": [
  {
   "attachments": {},
   "cell_type": "markdown",
   "metadata": {},
   "source": [
    "# MIP"
   ]
  },
  {
   "cell_type": "code",
   "execution_count": 100,
   "metadata": {},
   "outputs": [],
   "source": [
    "from pulp import *\n",
    "\n",
    "# Read the file and initialize the variables\n",
    "with open(\"../data/inst01.dat\", \"r\") as file:\n",
    "    lines = file.readlines()\n",
    "\n",
    "# Create a new model\n",
    "model = LpProblem(\"CourierRoutingProblem\", LpMinimize)"
   ]
  },
  {
   "cell_type": "code",
   "execution_count": 101,
   "metadata": {},
   "outputs": [],
   "source": [
    "## Parse the values from the file.\n",
    "\n",
    "# Number of couriers.\n",
    "m = int(lines[0].strip())  \n",
    "\n",
    "# Number of items.\n",
    "n = int(lines[1].strip())  \n",
    "\n",
    "# Maximum load for each courier\n",
    "l_values = list(map(int, lines[2].split()))  \n",
    "\n",
    "# Size of each item.\n",
    "s_values = list(map(int, lines[3].split()))  \n",
    "\n",
    "# Distance matrix.\n",
    "D_values = [list(map(int, line.split())) for line in lines[4:]]  \n",
    "\n",
    "# Couriers route.\n",
    "routes = [LpVariable.dicts(f\"routes_{i+1}\", (range(n+1), range(n + 1)), cat = \"Binary\") for i in range(m)]\n",
    "\n",
    "# Used to individuate possible presence of cycles in the matrix.\n",
    "y_cycles = [ LpVariable(f\"y_cycles_{d}\", cat=\"Binary\") for d in range(m) ]\n",
    "\n",
    "# Absolute values of the the differenze of indices of row with indices of column.\n",
    "abs_s = [ LpVariable(f\"abs_s_{d}\", cat=\"Integer\", lowBound=0) for d in range(m) ]\n",
    "\n",
    "# Used to define abs_s to simulate an absolute value.\n",
    "y_f = [ LpVariable(f\"y_{d}\", cat=\"Binary\") for d in range(m) ]\n",
    "p = [ LpVariable(f\"p_{d}\", cat=\"Integer\", lowBound=0) for d in range(m) ]\n",
    "enne = [ LpVariable(f\"enne_{d}\", cat=\"Integer\", lowBound=0) for d in range(m) ]\n",
    "\n",
    "# Store the maximum value of the objective function.\n",
    "maximum = LpVariable(\"maximum\", lowBound=0, cat=\"Integer\")\n",
    "\n"
   ]
  },
  {
   "cell_type": "markdown",
   "metadata": {},
   "source": [
    "### Objective function"
   ]
  },
  {
   "cell_type": "code",
   "execution_count": 102,
   "metadata": {},
   "outputs": [],
   "source": [
    "# objective function\n",
    "# List of all distances travelled by the couriers.\n",
    "objective = [lpSum([D_values[t][j] * routes[i][t][j] for t in range(n+1) for j in range(n+1)]) for i in range(m)]\n"
   ]
  },
  {
   "cell_type": "markdown",
   "metadata": {},
   "source": [
    "### CONSTRAINTS"
   ]
  },
  {
   "cell_type": "code",
   "execution_count": 103,
   "metadata": {},
   "outputs": [],
   "source": [
    "# All items are delivered, to ensure that the sum of the 1s in the routes matrix is exactly n+m\n",
    "model += lpSum(routes) == (n+m)\n",
    "\n",
    "#No 1s on the main diagonal. To ensure that is not possible to go from a distribution point to itself.\n",
    "# Forcing the sum on the main diagonal to be 0\n",
    "model += lpSum([routes[d][i][i] for d in range(m) for i in range(n+1)]) == 0\n",
    "\n",
    "# Exactly 1 value in the same columns (except the last) for all couriers.\n",
    "# To ensure that each destination point is visited only once by one courier.\n",
    "for j in range(n):\n",
    "    model += lpSum([routes[d][i][j] for d in range(m)\n",
    "                   for i in range(n+1)]) == 1\n",
    "\n",
    "# Exactly 1 value in the same row (except the last) for all couriers.\n",
    "# To ensure that only one courier can start from a distribution point.\n",
    "for i in range(n):\n",
    "    model += lpSum([routes[d][i][j] for d in range(m)\n",
    "                   for j in range(n+1)]) == 1\n",
    "\n",
    "for d in range(m):\n",
    "\n",
    "    # Each courier delivers at least 1 item. (IMPLIED CONSTRAINT)\n",
    "    # Forces to have at least two 1s for each courier.\n",
    "    model += lpSum(routes[d]) >= 2\n",
    "\n",
    "    # Each courier starts from the origin point. \n",
    "    # Forces to have exactly a 1 in the last row. \n",
    "    model += lpSum([routes[d][n][j] for j in range(n)]) == 1\n",
    "\n",
    "    # Each courier ends to the origin point. \n",
    "    # Forces to have exactly a 1 in the last column.\n",
    "    model += lpSum([routes[d][i][n] for i in range(n)]) == 1\n",
    "\n",
    "    # Avoid courier overload.\n",
    "    # The sum of the sizes of the items assigned for each courier don’t exceed the maximum load of that courier.\n",
    "    model += lpSum([lpSum(routes[d][i]) * s_values[i]\n",
    "                   for i in range(n)]) <= l_values[d]\n",
    "\n",
    "    # Sum of indices of rows of all the 1s.\n",
    "    sl = lpSum([lpSum([routes[d][i][j]*(i+1) for j in range(n)])\n",
    "               for i in range(n)])\n",
    "\n",
    "    # Sum of indices or columns of all 1s.\n",
    "    sr = lpSum([lpSum([routes[d][j][i] * (i+1) for j in range(n)])\n",
    "               for i in range(n)])\n",
    "\n",
    "    # Difference of indices.\n",
    "    s = sl -sr\n",
    "\n",
    "    #Maximum value that sr or sl can assume.\n",
    "    M = sum([i for i in range(n)])\n",
    "\n",
    "    # Detect when the courier d deliver only one item => \n",
    "    # y_cycle = 0 There are all 0s inside the route[d] matrix except in the last row and column.\n",
    "    # y_cycle = 1 There are 1s inside the route[d] matrix.\n",
    "    # Force y_cycle[d] to be defined in range [sr/M , sr]. \n",
    "    model += y_cycles[d] >= sr/M\n",
    "    model += y_cycles[d] <= sr\n",
    "    \n",
    "    # Implementation of the absolute value of s, abs_s = abs(s).\n",
    "    # the absolute value is a non-linear function. However, abs(x) is a piecewise-linear function and we can use a modeling technique.  \n",
    "    # We can use two separate variables p, n >= 0 and use an indicator variable y to ensure that only p or n can have a value other than zero at any time.\n",
    "    model += s == p[d] - enne[d]\n",
    "    model += p[d] <= M * y_f[d]\n",
    "    model += enne[d] <= M*(1 - y_f[d])\n",
    "    model += abs_s[d] == p[d] + enne[d]\n",
    "\n",
    "    # Absolute values are always positively defined.\n",
    "    model += abs_s[d] >=0\n",
    "\n",
    "    # Couriers can have only a main cycle starting and ending to the origin point, no inner cycles admitted.\n",
    "    # Every solution having y_cycles = 1 and abs_s[d] = 0 will be discarded because it represents an inner cycle.\n",
    "    model += abs_s[d] >= y_cycles[d]\n",
    "    \n",
    "\n",
    "    # The path must be coherent => there should exist a coherent path from the first destination point to the origin.\n",
    "    # The sum of the values on the row 1 is equal to the sum of values in the comumn 1.\n",
    "    for i in range(n+1):\n",
    "        model += (lpSum([routes[d][i][a] for a in range(n+1)])\n",
    "                  == lpSum([routes[d][t][i] for t in range(n+1)]))\n",
    "\n",
    "    # Couriers cannot go back to a destination point already visited, except if it is the origin point.\n",
    "    # Example   o -> 1   1 -> is allowed.\n",
    "    for i in range(n):\n",
    "        for j in range(n):\n",
    "            model += lpSum([routes[d][i][j], routes[d][j][i]]) <= 1\n"
   ]
  },
  {
   "cell_type": "code",
   "execution_count": 104,
   "metadata": {},
   "outputs": [
    {
     "name": "stdout",
     "output_type": "stream",
     "text": [
      "Status: Optimal\n"
     ]
    }
   ],
   "source": [
    "\n",
    "# Find the maximum in the objective function.\n",
    "for i in range(len(objective)):\n",
    "    model += maximum>=objective[i]\n",
    "\n",
    "# Minimize the maximum.\n",
    "model+= maximum\n",
    "\n",
    "# Solve the model\n",
    "model.solve()\n",
    "\n",
    "# The status of the solution is printed to the screen\n",
    "print(\"Status:\", LpStatus[model.status])\n",
    "\n",
    "if model.status == LpStatusOptimal:\n",
    "    length = model.objective.value()\n",
    "   \n",
    "else:\n",
    "    print(\"No solution found.\")"
   ]
  },
  {
   "cell_type": "code",
   "execution_count": 105,
   "metadata": {},
   "outputs": [],
   "source": [
    "# Printing functions\n",
    "\n",
    "# Print results\n",
    "def print_paths(routes):\n",
    "    print(\"---ROUTES---\")\n",
    "    routes_values = []\n",
    "    for d in range(m):\n",
    "        r = [n+1] * n\n",
    "        pos = 0\n",
    "        index = n\n",
    "        while True:\n",
    "            index = [routes[d][index][j].varValue for j in range(n+1)].index(1.0)\n",
    "            r[pos] = index+1\n",
    "            pos += 1\n",
    "            if (index == n):\n",
    "                routes_values.append(r)\n",
    "                break\n",
    "    print(routes_values)\n",
    "\n",
    "#Print distances\n",
    "def print_Objective(routes):\n",
    "    print(\"---OBJECTIVE---\")\n",
    "    print([sum([D_values[t][j] * routes[i][t][j].varValue for t in range(n+1)\n",
    "      for j in range(n+1)]) for i in range(m)])\n",
    "\n",
    "#Print Routes\n",
    "def print_routes(routes):\n",
    "    print(\"---ROUTES MASK ---\")\n",
    "    for d in range(m):\n",
    "        print(f\"---COURIER {d+1}---\")\n",
    "        for i in range(n+1):\n",
    "            print([routes[d][i][j].varValue for j in range(n + 1)])\n"
   ]
  },
  {
   "cell_type": "markdown",
   "metadata": {},
   "source": [
    "### PRINT RESULTS"
   ]
  },
  {
   "cell_type": "code",
   "execution_count": 106,
   "metadata": {},
   "outputs": [
    {
     "name": "stdout",
     "output_type": "stream",
     "text": [
      "---ROUTES---\n",
      "[[2, 4, 4], [1, 3, 4]]\n",
      "---OBJECTIVE---\n",
      "[160.0, 206.0]\n",
      "---MAXIMUM---\n",
      "206.0\n"
     ]
    }
   ],
   "source": [
    "print_paths(routes)\n",
    "\n",
    "print_Objective(routes)\n",
    "\n",
    "#print_routes(routes)\n",
    "\n",
    "print(\"---MAXIMUM---\")\n",
    "print(maximum.varValue)"
   ]
  }
 ],
 "metadata": {
  "kernelspec": {
   "display_name": "Python 3.8.5 32-bit",
   "language": "python",
   "name": "python3"
  },
  "language_info": {
   "codemirror_mode": {
    "name": "ipython",
    "version": 3
   },
   "file_extension": ".py",
   "mimetype": "text/x-python",
   "name": "python",
   "nbconvert_exporter": "python",
   "pygments_lexer": "ipython3",
   "version": "3.8.5"
  },
  "orig_nbformat": 4,
  "vscode": {
   "interpreter": {
    "hash": "54883a7121a713d77125f1e58771414b12d9415a58e298846e2d0c0165565864"
   }
  }
 },
 "nbformat": 4,
 "nbformat_minor": 2
}
