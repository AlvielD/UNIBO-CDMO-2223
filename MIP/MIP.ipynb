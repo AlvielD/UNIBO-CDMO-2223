{
 "cells": [
  {
   "attachments": {},
   "cell_type": "markdown",
   "metadata": {},
   "source": [
    "# MIP"
   ]
  },
  {
   "cell_type": "code",
   "execution_count": 1,
   "metadata": {},
   "outputs": [],
   "source": [
    "from pulp import *\n",
    "\n",
    "# Read the file and initialize the variables\n",
    "with open(\"../data/inst03.dat\", \"r\") as file:\n",
    "    lines = file.readlines()\n",
    "\n",
    "# Create a new model\n",
    "model = LpProblem(\"CourierRoutingProblem\", LpMinimize)"
   ]
  },
  {
   "cell_type": "code",
   "execution_count": 2,
   "metadata": {},
   "outputs": [],
   "source": [
    "## Parse the values from the file\n",
    "m = int(lines[0].strip())  # Number of couriers\n",
    "n = int(lines[1].strip())  # Number of items\n",
    "l_values = list(map(int, lines[2].split()))  # Maximum load for each courier\n",
    "s_values = list(map(int, lines[3].split()))  # Size of each item\n",
    "D_values = [list(map(int, line.split())) for line in lines[4:]]  # Distance matrix\n",
    "#l = LpVariable.dicts(\"l\", range(m), lowBound=0, cat=\"Integer\")  # Maximum load decision variables\n",
    "#for i in range(m):\n",
    "#    l[i].bounds = (l_values[i], l_values[i])\n",
    "#    model.addConstraint(l[i] == l_values[i])\n",
    "#\n",
    "#\n",
    "#s = LpVariable.dicts(\"s\", range(n), lowBound=0, cat=\"Integer\")  # Size of each item decision variables\n",
    "#for i in range(n):\n",
    "#    s[i].bounds = (s_values[i], s_values[i])\n",
    "#    model.addConstraint(s[i] == s_values[i])\n",
    "#\n",
    "#\n",
    "#D = LpVariable.dicts(\"D\", (range(n + 1), range(n + 1)), lowBound=0, cat=\"Integer\")  # Distance matrix decision variables\n",
    "#\n",
    "#for i in range(n + 1):\n",
    "#    for j in range(n + 1):\n",
    "#        D[i][j].bounds = (D_values[i][j], D_values[i][j])\n",
    "#        #D[i][j].setInitialValue(D_values[i][j])\n",
    "#        model.addConstraint(D[i][j] == D_values[i][j])\n",
    "#\n",
    "#routes = LpVariable.dicts(\"routes\", (range(n+1), range(n + 1)), lowBound=0, upBound=m, cat=\"Integer\")  # Routes for each courier OLD MODEL\n",
    "routes = [LpVariable.dicts(f\"routes_{i+1}\", (range(n+1), range(n + 1)), lowBound=0, upBound=1, cat=\"Integer\") for i in range(m)]\n"
   ]
  },
  {
   "cell_type": "code",
   "execution_count": 3,
   "metadata": {},
   "outputs": [],
   "source": [
    "# objective function \n",
    "objective = [lpSum([D_values[t][j] * routes[i][t][j] for t in range(n+1) for j in range(n+1)]) for i in range(m)]\n"
   ]
  },
  {
   "cell_type": "markdown",
   "metadata": {},
   "source": [
    "### CONSTRAINTS"
   ]
  },
  {
   "cell_type": "code",
   "execution_count": 4,
   "metadata": {},
   "outputs": [],
   "source": [
    "##Domain constraint\n",
    "model += lpSum(routes) == (n+m)\n",
    "\n",
    "#No 1 values on diagonals\n",
    "model += lpSum([routes[d][i][i] for d in range(m) for i in range(n+1)]) == 0\n",
    "\n",
    "#At most 1 value in the same columns for each courier except last column\n",
    "for j in range(n):\n",
    "    model += lpSum([routes[d][i][j] for d in range(m) for i in range(n+1)]) <= 1\n",
    "\n",
    "#At most 1 value in the same row for each courier except last row\n",
    "for i in range(n):\n",
    "    model += lpSum([routes[d][i][j] for d in range(m) for j in range(n+1)]) <= 1\n",
    "\n",
    "\n",
    "for d in range(m):\n",
    "\n",
    "    #At least 1 value for each courier\n",
    "    model += lpSum(routes[d]) >= 2\n",
    "\n",
    "    #Exactly 1 value in the last row for each courier   \n",
    "    model += lpSum([routes[d][n][j]  for j in range(n+1)])== 1\n",
    "\n",
    "    #Exactly 1 value in the last column for each courier\n",
    "    model += lpSum([routes[d][i][n]  for i in range(n+1)]) == 1\n",
    "\n",
    "    #Loads constraint\n",
    "    model += lpSum([lpSum(routes[d][i]) * s_values[i] for i in range(n)]) <= l_values[d]\n",
    "    \n",
    "    for i in range(n+1):\n",
    "        #The path must be coherent => there should exist a coherent path from the first destination point to the origin\n",
    "        #It's implemented by verifying that the sum of the values on the row 1 is equal to the sum of values in the comumn 1 => \n",
    "        #if there's a row in the ith row there should be a 1 also in the ith column and viceversa\n",
    "\n",
    "        model += (lpSum([routes[d][i][t] for t in range(n+1) ]) == lpSum([routes[d][t][i] for t in range(n+1)]))\n",
    "\n",
    "        for j in range(n):\n",
    "            ##Couriers cannot go back to a destination point already visited, except if it is the origin point\n",
    "            #Example   o -> 1   1 -> is allowed\n",
    "            model += (routes[d][i][j] + routes[d][j][i]) <=1\n",
    "\n",
    "\n",
    "    \n",
    "#TODO Symmetry breaking contraints?\n",
    "\n",
    "\n"
   ]
  },
  {
   "cell_type": "code",
   "execution_count": 5,
   "metadata": {},
   "outputs": [
    {
     "name": "stdout",
     "output_type": "stream",
     "text": [
      "Status: Optimal\n"
     ]
    }
   ],
   "source": [
    "maximum = LpVariable(\"maximum\", lowBound=0, cat=\"Integer\")\n",
    "\n",
    "for i in range(len(objective)):\n",
    "    model.addConstraint(constraint = (maximum>=objective[i])) \n",
    "\n",
    "model.setObjective(maximum)\n",
    "\n",
    "# Solve the model\n",
    "model.solve()\n",
    "\n",
    "# The status of the solution is printed to the screen\n",
    "print(\"Status:\", LpStatus[model.status])\n",
    "\n",
    "if model.status == LpStatusOptimal:\n",
    "    length = model.objective.value()\n",
    "   \n",
    "else:\n",
    "    print(\"No solution found.\")"
   ]
  },
  {
   "cell_type": "code",
   "execution_count": 6,
   "metadata": {},
   "outputs": [
    {
     "name": "stdout",
     "output_type": "stream",
     "text": [
      "---ROUTES---\n",
      "[[3, 6, 5, 8, 8, 8, 8], [2, 4, 8, 8, 8, 8, 8], [1, 7, 8, 8, 8, 8, 8]]\n",
      "---DISTANCES---\n",
      "[12.0, 10.0, 12.0]\n",
      "---ROUTES MASK ---\n",
      "---COURIER 2---\n",
      "[0.0, 0.0, 0.0, 0.0, 0.0, 0.0, 0.0, 0.0]\n",
      "[0.0, 0.0, 0.0, 1.0, 0.0, 0.0, 0.0, 0.0]\n",
      "[0.0, 0.0, 0.0, 0.0, 0.0, 0.0, 0.0, 0.0]\n",
      "[0.0, 0.0, 0.0, 0.0, 0.0, 0.0, 0.0, 1.0]\n",
      "[0.0, 0.0, 0.0, 0.0, 0.0, 0.0, 0.0, 0.0]\n",
      "[0.0, 0.0, 0.0, 0.0, 0.0, 0.0, 0.0, 0.0]\n",
      "[0.0, 0.0, 0.0, 0.0, 0.0, 0.0, 0.0, 0.0]\n",
      "[0.0, 1.0, 0.0, 0.0, 0.0, 0.0, 0.0, 0.0]\n",
      "---COURIER 3---\n",
      "[0.0, 0.0, 0.0, 0.0, 0.0, 0.0, 1.0, 0.0]\n",
      "[0.0, 0.0, 0.0, 0.0, 0.0, 0.0, 0.0, 0.0]\n",
      "[0.0, 0.0, 0.0, 0.0, 0.0, 0.0, 0.0, 0.0]\n",
      "[0.0, 0.0, 0.0, 0.0, 0.0, 0.0, 0.0, 0.0]\n",
      "[0.0, 0.0, 0.0, 0.0, 0.0, 0.0, 0.0, 0.0]\n",
      "[0.0, 0.0, 0.0, 0.0, 0.0, 0.0, 0.0, 0.0]\n",
      "[0.0, 0.0, 0.0, 0.0, 0.0, 0.0, 0.0, 1.0]\n",
      "[1.0, 0.0, 0.0, 0.0, 0.0, 0.0, 0.0, 0.0]\n",
      "---MAXIMUM---\n",
      "12.0\n"
     ]
    }
   ],
   "source": [
    "#Print results\n",
    "routes_values = []\n",
    "for d in range(m):\n",
    "    r = [n+1] * n\n",
    "    pos = 0\n",
    "    index = n\n",
    "    while True: \n",
    "        index = [routes[d][index][j].varValue for j in range(n+1)].index(1.0)\n",
    "        r[pos] = index+1\n",
    "        pos+=1\n",
    "        if(index == n):\n",
    "            routes_values.append(r)\n",
    "            break\n",
    "print(\"---ROUTES---\")\n",
    "print(routes_values)\n",
    "\n",
    "print(\"---DISTANCES---\")\n",
    "print([sum([D_values[t][j] * routes[i][t][j].varValue for t in range(n+1) for j in range(n+1)]) for i in range(m)])\n",
    "print(\"---ROUTES MASK ---\")\n",
    "for d in range(m):\n",
    "    print(f\"---COURIER {d+1}---\")\n",
    "    for i in range(n+1):\n",
    "        print([routes[d][i][j].varValue for j in range(n + 1)])\n",
    "        \n",
    "print(\"---MAXIMUM---\")\n",
    "print(length)"
   ]
  }
 ],
 "metadata": {
  "kernelspec": {
   "display_name": "Python 3.8.5 32-bit",
   "language": "python",
   "name": "python3"
  },
  "language_info": {
   "codemirror_mode": {
    "name": "ipython",
    "version": 3
   },
   "file_extension": ".py",
   "mimetype": "text/x-python",
   "name": "python",
   "nbconvert_exporter": "python",
   "pygments_lexer": "ipython3",
   "version": "3.8.5"
  },
  "orig_nbformat": 4,
  "vscode": {
   "interpreter": {
    "hash": "54883a7121a713d77125f1e58771414b12d9415a58e298846e2d0c0165565864"
   }
  }
 },
 "nbformat": 4,
 "nbformat_minor": 2
}
